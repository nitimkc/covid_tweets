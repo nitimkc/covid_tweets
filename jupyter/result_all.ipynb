{
 "cells": [
  {
   "cell_type": "code",
   "execution_count": 68,
   "metadata": {},
   "outputs": [],
   "source": [
    "import os\n",
    "import json\n",
    "import re\n",
    "import pandas as pd\n",
    "from pathlib import Path\n",
    "import matplotlib.pyplot as plt"
   ]
  },
  {
   "cell_type": "code",
   "execution_count": 69,
   "metadata": {},
   "outputs": [],
   "source": [
    "def avg_series(series):\n",
    "    return [round(sum(i)/len(i),2) for i in series]"
   ]
  },
  {
   "cell_type": "code",
   "execution_count": 70,
   "metadata": {},
   "outputs": [],
   "source": [
    "target = 'trace'\n",
    "n_tweets = str(5000)\n",
    "ROOT = Path(r'/Users/peaceforlives/Documents/Projects/covid_tweets')\n",
    "RESULTS = Path.joinpath(ROOT, 'results', n_tweets)\n",
    "PLOTS = Path.joinpath(ROOT, 'results','plots')"
   ]
  },
  {
   "cell_type": "code",
   "execution_count": 71,
   "metadata": {},
   "outputs": [
    {
     "data": {
      "text/plain": [
       "[PosixPath('/Users/peaceforlives/Documents/Projects/covid_tweets/results/5000/bullying_post_type_results1969.json'),\n",
       " PosixPath('/Users/peaceforlives/Documents/Projects/covid_tweets/results/5000/bullying_role_results1969.json'),\n",
       " PosixPath('/Users/peaceforlives/Documents/Projects/covid_tweets/results/5000/bullying_trace_results4991.json'),\n",
       " PosixPath('/Users/peaceforlives/Documents/Projects/covid_tweets/results/5000/form_of_bullying_results1969.json')]"
      ]
     },
     "execution_count": 71,
     "metadata": {},
     "output_type": "execute_result"
    }
   ],
   "source": [
    "all_files = [i for i in list(RESULTS.iterdir()) if '.json' in i.suffix ]\n",
    "all_files.sort()\n",
    "all_files"
   ]
  },
  {
   "cell_type": "code",
   "execution_count": 77,
   "metadata": {},
   "outputs": [
    {
     "data": {
      "text/html": [
       "<div>\n",
       "<style scoped>\n",
       "    .dataframe tbody tr th:only-of-type {\n",
       "        vertical-align: middle;\n",
       "    }\n",
       "\n",
       "    .dataframe tbody tr th {\n",
       "        vertical-align: top;\n",
       "    }\n",
       "\n",
       "    .dataframe thead th {\n",
       "        text-align: right;\n",
       "    }\n",
       "</style>\n",
       "<table border=\"1\" class=\"dataframe\">\n",
       "  <thead>\n",
       "    <tr style=\"text-align: right;\">\n",
       "      <th></th>\n",
       "      <th>size</th>\n",
       "      <th>accuracy</th>\n",
       "      <th>precision</th>\n",
       "      <th>recall</th>\n",
       "      <th>f1_valid</th>\n",
       "      <th>f1_train</th>\n",
       "      <th>time</th>\n",
       "    </tr>\n",
       "    <tr>\n",
       "      <th>name</th>\n",
       "      <th></th>\n",
       "      <th></th>\n",
       "      <th></th>\n",
       "      <th></th>\n",
       "      <th></th>\n",
       "      <th></th>\n",
       "      <th></th>\n",
       "    </tr>\n",
       "  </thead>\n",
       "  <tbody>\n",
       "    <tr>\n",
       "      <th>LogisticRegression</th>\n",
       "      <td>[1803, 166]</td>\n",
       "      <td>0.8</td>\n",
       "      <td>0.75</td>\n",
       "      <td>0.8</td>\n",
       "      <td>0.77</td>\n",
       "      <td>0.86</td>\n",
       "      <td>1.5</td>\n",
       "    </tr>\n",
       "    <tr>\n",
       "      <th>SVC</th>\n",
       "      <td>[1803, 166]</td>\n",
       "      <td>0.81</td>\n",
       "      <td>0.76</td>\n",
       "      <td>0.81</td>\n",
       "      <td>0.78</td>\n",
       "      <td>0.94</td>\n",
       "      <td>3.81</td>\n",
       "    </tr>\n",
       "    <tr>\n",
       "      <th>KNeighborsClassifier</th>\n",
       "      <td>[1803, 166]</td>\n",
       "      <td>0.72</td>\n",
       "      <td>0.7</td>\n",
       "      <td>0.72</td>\n",
       "      <td>0.7</td>\n",
       "      <td>0.77</td>\n",
       "      <td>1.54</td>\n",
       "    </tr>\n",
       "  </tbody>\n",
       "</table>\n",
       "</div>"
      ],
      "text/plain": [
       "                             size accuracy precision recall f1_valid f1_train  \\\n",
       "name                                                                            \n",
       "LogisticRegression    [1803, 166]      0.8      0.75    0.8     0.77     0.86   \n",
       "SVC                   [1803, 166]     0.81      0.76   0.81     0.78     0.94   \n",
       "KNeighborsClassifier  [1803, 166]     0.72       0.7   0.72      0.7     0.77   \n",
       "\n",
       "                      time  \n",
       "name                        \n",
       "LogisticRegression     1.5  \n",
       "SVC                   3.81  \n",
       "KNeighborsClassifier  1.54  "
      ]
     },
     "execution_count": 77,
     "metadata": {},
     "output_type": "execute_result"
    }
   ],
   "source": [
    "file = all_files[3]\n",
    "each_df = pd.read_json(file, lines=True)\n",
    "each_df.iloc[:,3:] = each_df.iloc[:,3:].apply(avg_series)\n",
    "each_df.iloc[:,2] = [i[0] for i in  each_df.iloc[:,2] ]\n",
    "each_df.drop('model', inplace=True, axis=1)\n",
    "each_df.set_index('name', inplace=True)\n",
    "each_df"
   ]
  },
  {
   "cell_type": "code",
   "execution_count": 47,
   "metadata": {},
   "outputs": [
    {
     "name": "stdout",
     "output_type": "stream",
     "text": [
      "/Users/peaceforlives/Documents/Projects/covid_tweets/results/5000/bullying_post_type_results1969.json\n",
      "                   name f1_valid  time\n",
      "0    LogisticRegression     0.66   1.5\n",
      "1                   SVC     0.68  3.85\n",
      "2  KNeighborsClassifier     0.59  1.43\n",
      "/Users/peaceforlives/Documents/Projects/covid_tweets/results/5000/bullying_role_results1969.json\n",
      "                   name f1_valid  time\n",
      "0    LogisticRegression      0.5  1.67\n",
      "1                   SVC     0.51  4.67\n",
      "2  KNeighborsClassifier     0.44  1.57\n",
      "/Users/peaceforlives/Documents/Projects/covid_tweets/results/5000/bullying_trace_results4991.json\n",
      "                                name f1_valid   time\n",
      "0  LogisticRegression (TruncatedSVD)     0.73   6.69\n",
      "1                 LogisticRegression     0.73   2.78\n",
      "2       SGDClassifier (TruncatedSVD)     0.73   6.89\n",
      "3                      SGDClassifier     0.71   2.77\n",
      "4                                SVC     0.72  11.71\n",
      "/Users/peaceforlives/Documents/Projects/covid_tweets/results/5000/form_of_bullying_results1969.json\n",
      "                   name f1_valid  time\n",
      "0    LogisticRegression     0.77   1.5\n",
      "1                   SVC     0.78  3.81\n",
      "2  KNeighborsClassifier      0.7  1.54\n"
     ]
    }
   ],
   "source": [
    "for i in all_files:\n",
    "    print(i)\n",
    "    each_df = pd.read_json(i, lines=True)\n",
    "    each_df.iloc[:,3:] = each_df.iloc[:,3:].apply(avg_series)\n",
    "    print(each_df[['name','f1_valid','time']])"
   ]
  },
  {
   "cell_type": "code",
   "execution_count": null,
   "metadata": {},
   "outputs": [],
   "source": []
  }
 ],
 "metadata": {
  "kernelspec": {
   "display_name": "Python 3",
   "language": "python",
   "name": "python3"
  },
  "language_info": {
   "codemirror_mode": {
    "name": "ipython",
    "version": 3
   },
   "file_extension": ".py",
   "mimetype": "text/x-python",
   "name": "python",
   "nbconvert_exporter": "python",
   "pygments_lexer": "ipython3",
   "version": "3.7.9"
  }
 },
 "nbformat": 4,
 "nbformat_minor": 4
}
